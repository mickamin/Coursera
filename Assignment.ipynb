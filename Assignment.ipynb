{
  "cells": [
    {
      "cell_type": "markdown",
      "id": "e279d3a2-7377-43d8-9338-c3e546a154e0",
      "metadata": {
        "id": "e279d3a2-7377-43d8-9338-c3e546a154e0"
      },
      "source": [
        "<h1>Exercise 1: Create a Jupyter Notebook</h1>"
      ]
    },
    {
      "cell_type": "markdown",
      "id": "fbe3312d-1bc3-4a88-9f0c-b3c4b32e71ef",
      "metadata": {
        "id": "fbe3312d-1bc3-4a88-9f0c-b3c4b32e71ef"
      },
      "source": [
        "<strong>Exercise 2 - Create a markdown cell with the title of the notebook.</strong>"
      ]
    },
    {
      "cell_type": "markdown",
      "id": "c0b7dd50-bacf-4dc0-98a1-6785b57fb181",
      "metadata": {
        "id": "c0b7dd50-bacf-4dc0-98a1-6785b57fb181"
      },
      "source": [
        "<h1>Data Science Tools and Ecosystem</h1>\n",
        "\n"
      ]
    },
    {
      "cell_type": "markdown",
      "id": "a5b74512-a6ff-4dd2-89cc-d493d3bfd9fe",
      "metadata": {
        "id": "a5b74512-a6ff-4dd2-89cc-d493d3bfd9fe"
      },
      "source": [
        "<strong>Exercise 3 - Create a markdown cell for an introduction. (1 pt)</strong>"
      ]
    },
    {
      "cell_type": "markdown",
      "id": "728d9b1f-1d0b-4eb3-996a-4453c25444b4",
      "metadata": {
        "id": "728d9b1f-1d0b-4eb3-996a-4453c25444b4"
      },
      "source": [
        "In this notebook, Data Science Tools and Ecosystem are summarized"
      ]
    },
    {
      "cell_type": "markdown",
      "id": "b2b9bcf3-2c0b-48a1-bade-d6c3b8dc774e",
      "metadata": {
        "id": "b2b9bcf3-2c0b-48a1-bade-d6c3b8dc774e"
      },
      "source": [
        "**Objectives:**\n",
        "\n",
        "- List popular languages for Data Science\n",
        "- List popular libraries used for Data Science\n",
        "- Give examples on evaluating arithmetic expressions in Python\n",
        "- Create a code cell to convert minutes to hours\n",
        "    "
      ]
    },
    {
      "cell_type": "markdown",
      "id": "6015b630-954a-4096-bfc0-dc28b53a378c",
      "metadata": {
        "id": "6015b630-954a-4096-bfc0-dc28b53a378c"
      },
      "source": [
        "<strong>Exercise 4 - Create a markdown cell to list data science languages. (3 pts)</strong>"
      ]
    },
    {
      "cell_type": "markdown",
      "id": "3c957deb-56d8-43b4-9ab9-7f5efea83c17",
      "metadata": {
        "id": "3c957deb-56d8-43b4-9ab9-7f5efea83c17"
      },
      "source": [
        "Some of the popular languages that Data Scientists use are:\n",
        "1. Python\n",
        "2. R\n",
        "3. Julia\n",
        "4. SQL"
      ]
    },
    {
      "cell_type": "markdown",
      "id": "2e054783-ae15-402a-8391-6fbb81ec784a",
      "metadata": {
        "id": "2e054783-ae15-402a-8391-6fbb81ec784a"
      },
      "source": [
        "<strong>Exercise 5 - Create a markdown cell to list data science libraries. (3 pts)</strong>"
      ]
    },
    {
      "cell_type": "markdown",
      "id": "5c211684-5f77-4c28-bd23-590a3ab0b368",
      "metadata": {
        "id": "5c211684-5f77-4c28-bd23-590a3ab0b368"
      },
      "source": [
        "Some of the commonly used libraries used by Data Scientists include:\n",
        "1. NumPy\n",
        "2. Pandas\n",
        "3. TensorFlow\n",
        "4. Scikit-learn\n",
        "5. PyTorch"
      ]
    },
    {
      "cell_type": "markdown",
      "id": "22f68c77-7e82-427a-8e8d-12c0a609989a",
      "metadata": {
        "id": "22f68c77-7e82-427a-8e8d-12c0a609989a"
      },
      "source": [
        "<strong>Exercise 6 - Create a markdown cell with a table of Data Science tools. (3 pts)</strong>"
      ]
    },
    {
      "cell_type": "markdown",
      "id": "34f750eb-46e1-46e8-b8a1-45bf703d5cdb",
      "metadata": {
        "id": "34f750eb-46e1-46e8-b8a1-45bf703d5cdb"
      },
      "source": [
        "| Data Science Tools: |\n",
        "| -------------|\n",
        "| Data Science Tools |\n",
        "| Anaconda |\n",
        "| Git |"
      ]
    },
    {
      "cell_type": "markdown",
      "id": "0ff5d698-28c6-4af7-9fbf-3c8aeac5c162",
      "metadata": {
        "id": "0ff5d698-28c6-4af7-9fbf-3c8aeac5c162"
      },
      "source": [
        "<strong>Exercise 7 - Create a markdown cell introducing arithmetic expression examples. (1 pt)</strong>"
      ]
    },
    {
      "cell_type": "markdown",
      "id": "05ff289f-d200-40f5-817a-f2d1d65e3474",
      "metadata": {
        "id": "05ff289f-d200-40f5-817a-f2d1d65e3474"
      },
      "source": [
        "<h3>Below are a few examples of evaluating arithmetic expressions in Python</h3>"
      ]
    },
    {
      "cell_type": "code",
      "execution_count": null,
      "id": "1b0019a7-0338-4d65-863d-3a35f0ca72ff",
      "metadata": {
        "id": "1b0019a7-0338-4d65-863d-3a35f0ca72ff",
        "outputId": "16521bcc-6461-45c7-9132-d8f8d08ab9da",
        "colab": {
          "base_uri": "https://localhost:8080/"
        }
      },
      "outputs": [
        {
          "output_type": "stream",
          "name": "stdout",
          "text": [
            "5\n"
          ]
        }
      ],
      "source": [
        "a = 1 * 5\n",
        "print(a)"
      ]
    },
    {
      "cell_type": "code",
      "execution_count": null,
      "id": "ee49c688-2610-4a78-8947-d12f976e940a",
      "metadata": {
        "id": "ee49c688-2610-4a78-8947-d12f976e940a",
        "outputId": "61db8fc0-f487-414f-e1bf-2df341353f33",
        "colab": {
          "base_uri": "https://localhost:8080/"
        }
      },
      "outputs": [
        {
          "output_type": "stream",
          "name": "stdout",
          "text": [
            "16\n"
          ]
        }
      ],
      "source": [
        "b = (3 * 5) + 1\n",
        "print(b)"
      ]
    },
    {
      "cell_type": "code",
      "execution_count": null,
      "id": "812b1380-c75c-4854-9eaf-707c1ca6740d",
      "metadata": {
        "id": "812b1380-c75c-4854-9eaf-707c1ca6740d",
        "outputId": "9ae28d71-2a2e-4ff5-f848-7fdff66eb5d3",
        "colab": {
          "base_uri": "https://localhost:8080/"
        }
      },
      "outputs": [
        {
          "output_type": "stream",
          "name": "stdout",
          "text": [
            "16\n"
          ]
        }
      ],
      "source": [
        "c = 2 ** 4\n",
        "print(c)"
      ]
    },
    {
      "cell_type": "markdown",
      "id": "631c4d61-6e2b-45ac-a6a7-e12c80a37434",
      "metadata": {
        "id": "631c4d61-6e2b-45ac-a6a7-e12c80a37434"
      },
      "source": [
        "<strong>Exercise 8 - Create a code cell to multiply and add numbers.(2 pts)</strong>"
      ]
    },
    {
      "cell_type": "markdown",
      "id": "a556813e-c573-45d9-a354-b3c4545c24ef",
      "metadata": {
        "id": "a556813e-c573-45d9-a354-b3c4545c24ef"
      },
      "source": [
        "This a simple arithmetic expression to mutiply then add integers"
      ]
    },
    {
      "cell_type": "code",
      "execution_count": null,
      "id": "ae03f72b-2c05-4884-ae94-adc07167487d",
      "metadata": {
        "id": "ae03f72b-2c05-4884-ae94-adc07167487d",
        "outputId": "19b0ecc3-2345-49a6-c8d8-4f4a76719c7c",
        "colab": {
          "base_uri": "https://localhost:8080/"
        }
      },
      "outputs": [
        {
          "output_type": "execute_result",
          "data": {
            "text/plain": [
              "17"
            ]
          },
          "metadata": {},
          "execution_count": 6
        }
      ],
      "source": [
        "(3*4)+5"
      ]
    },
    {
      "cell_type": "markdown",
      "id": "0d55da1f-c304-40e5-84ce-14243b70e2c0",
      "metadata": {
        "id": "0d55da1f-c304-40e5-84ce-14243b70e2c0"
      },
      "source": [
        "<strong>Exercise 9 - Create a code cell to convert minutes to hours. (2 pts)</strong>"
      ]
    },
    {
      "cell_type": "markdown",
      "id": "6a52fcb4-00de-4a39-b368-db083fbc4d61",
      "metadata": {
        "id": "6a52fcb4-00de-4a39-b368-db083fbc4d61"
      },
      "source": [
        "This will convert 200 minutes to hours by diving by 60"
      ]
    },
    {
      "cell_type": "code",
      "execution_count": null,
      "id": "383731de-c25b-4b4f-a1ce-44f26b6ae2ab",
      "metadata": {
        "id": "383731de-c25b-4b4f-a1ce-44f26b6ae2ab",
        "outputId": "bd64a92d-a9f8-413c-e7fc-bf2c959a8a7e",
        "colab": {
          "base_uri": "https://localhost:8080/"
        }
      },
      "outputs": [
        {
          "output_type": "stream",
          "name": "stdout",
          "text": [
            "3.3333333333333335 hours\n"
          ]
        }
      ],
      "source": [
        "minutes = 200\n",
        "hours = minutes / 60\n",
        "print(str(hours) + \" hours\")"
      ]
    },
    {
      "cell_type": "markdown",
      "id": "8df63065-35dc-4418-a0dc-51c8589c0ce6",
      "metadata": {
        "id": "8df63065-35dc-4418-a0dc-51c8589c0ce6"
      },
      "source": [
        "<strong>Exercise 10 - Insert a markdown cell to list Objectives.</strong>"
      ]
    },
    {
      "cell_type": "markdown",
      "id": "2fe637ac-7c3c-4053-9a9f-7cadbb99d5b6",
      "metadata": {
        "id": "2fe637ac-7c3c-4053-9a9f-7cadbb99d5b6"
      },
      "source": [
        "<strong>Exercise 11 - Create a markdown cell to indicate the Author’s name.</strong>"
      ]
    },
    {
      "cell_type": "markdown",
      "id": "ee566760-e4a1-4439-baf6-5e54e551929f",
      "metadata": {
        "id": "ee566760-e4a1-4439-baf6-5e54e551929f"
      },
      "source": [
        "<h2>Author:</h2>\n",
        "Michal Kaminski"
      ]
    }
  ],
  "metadata": {
    "kernelspec": {
      "display_name": "Python",
      "language": "python",
      "name": "conda-env-python-py"
    },
    "language_info": {
      "codemirror_mode": {
        "name": "ipython",
        "version": 3
      },
      "file_extension": ".py",
      "mimetype": "text/x-python",
      "name": "python",
      "nbconvert_exporter": "python",
      "pygments_lexer": "ipython3",
      "version": "3.7.12"
    },
    "colab": {
      "provenance": []
    }
  },
  "nbformat": 4,
  "nbformat_minor": 5
}